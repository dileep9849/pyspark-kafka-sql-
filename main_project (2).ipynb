{
  "nbformat": 4,
  "nbformat_minor": 0,
  "metadata": {
    "colab": {
      "provenance": [],
      "collapsed_sections": []
    },
    "kernelspec": {
      "name": "python3",
      "display_name": "Python 3"
    },
    "language_info": {
      "name": "python"
    }
  },
  "cells": [
    {
      "cell_type": "code",
      "execution_count": 1,
      "metadata": {
        "colab": {
          "base_uri": "https://localhost:8080/"
        },
        "id": "g_lUQd--9XHM",
        "outputId": "5d4609a4-fcff-42db-cc36-02551150834c"
      },
      "outputs": [
        {
          "output_type": "stream",
          "name": "stdout",
          "text": [
            "\r0% [Working]\r            \rGet:1 https://cloud.r-project.org/bin/linux/ubuntu bionic-cran40/ InRelease [3,626 B]\n",
            "\r0% [Waiting for headers] [Connecting to security.ubuntu.com (185.125.190.36)] [\r0% [Waiting for headers] [Connecting to security.ubuntu.com (185.125.190.36)] [\r0% [1 InRelease gpgv 3,626 B] [Waiting for headers] [Connecting to security.ubu\r                                                                               \rHit:2 http://archive.ubuntu.com/ubuntu bionic InRelease\n",
            "\r0% [1 InRelease gpgv 3,626 B] [Waiting for headers] [Connecting to security.ubu\r                                                                               \rIgn:3 https://developer.download.nvidia.com/compute/machine-learning/repos/ubuntu1804/x86_64  InRelease\n",
            "\r0% [1 InRelease gpgv 3,626 B] [Waiting for headers] [Connecting to security.ubu\r                                                                               \rGet:4 https://developer.download.nvidia.com/compute/cuda/repos/ubuntu1804/x86_64  InRelease [1,581 B]\n",
            "\r0% [1 InRelease gpgv 3,626 B] [Waiting for headers] [Waiting for headers] [Conn\r                                                                               \rHit:5 https://developer.download.nvidia.com/compute/machine-learning/repos/ubuntu1804/x86_64  Release\n",
            "Get:6 http://archive.ubuntu.com/ubuntu bionic-updates InRelease [88.7 kB]\n",
            "Get:7 http://security.ubuntu.com/ubuntu bionic-security InRelease [88.7 kB]\n",
            "Hit:8 http://ppa.launchpad.net/c2d4u.team/c2d4u4.0+/ubuntu bionic InRelease\n",
            "Get:9 http://archive.ubuntu.com/ubuntu bionic-backports InRelease [83.3 kB]\n",
            "Hit:10 http://ppa.launchpad.net/cran/libgit2/ubuntu bionic InRelease\n",
            "Get:11 https://developer.download.nvidia.com/compute/cuda/repos/ubuntu1804/x86_64  Packages [913 kB]\n",
            "Hit:12 http://ppa.launchpad.net/deadsnakes/ppa/ubuntu bionic InRelease\n",
            "Hit:13 http://ppa.launchpad.net/graphics-drivers/ppa/ubuntu bionic InRelease\n",
            "Get:15 http://archive.ubuntu.com/ubuntu bionic-updates/main amd64 Packages [3,422 kB]\n",
            "Get:16 http://archive.ubuntu.com/ubuntu bionic-updates/universe amd64 Packages [2,322 kB]\n",
            "Get:17 http://security.ubuntu.com/ubuntu bionic-security/main amd64 Packages [2,990 kB]\n",
            "Get:18 http://security.ubuntu.com/ubuntu bionic-security/universe amd64 Packages [1,545 kB]\n",
            "Fetched 11.5 MB in 4s (3,018 kB/s)\n",
            "Reading package lists... Done\n"
          ]
        }
      ],
      "source": [
        "# Run below commands in google colab\n",
        "# install Java8\n",
        "!apt-get update --fix-missing\n",
        "\n",
        "!apt-get install openjdk-8-jdk-headless -qq > /dev/null\n",
        "# download spark3.0.0\n",
        "!wget -q https://archive.apache.org/dist/spark/spark-3.0.0/spark-3.0.0-bin-hadoop3.2.tgz"
      ]
    },
    {
      "cell_type": "code",
      "source": [
        "# unzip the spark file\n",
        "!tar xf spark-3.0.0-bin-hadoop3.2.tgz\n",
        "\n",
        "# install findspark \n",
        "!pip install -q findspark"
      ],
      "metadata": {
        "id": "Mj9S_kwQ9hMh"
      },
      "execution_count": 2,
      "outputs": []
    },
    {
      "cell_type": "code",
      "source": [
        "# set environmental variables\n",
        "import os\n",
        "os.environ[\"JAVA_HOME\"] = \"/usr/lib/jvm/java-8-openjdk-amd64\"\n",
        "os.environ[\"SPARK_HOME\"] = \"/content/spark-3.0.0-bin-hadoop3.2\""
      ],
      "metadata": {
        "id": "SYiZ0vGx9nb9"
      },
      "execution_count": 3,
      "outputs": []
    },
    {
      "cell_type": "code",
      "source": [
        "import findspark\n",
        "findspark.init()"
      ],
      "metadata": {
        "id": "GGhN-Q9q9ndo"
      },
      "execution_count": 4,
      "outputs": []
    },
    {
      "cell_type": "code",
      "source": [
        "from pyspark.sql import SparkSession\n",
        "\n",
        "spark = ( SparkSession.builder\n",
        "                      .master(\"local[*]\")\n",
        "                      #.config(\"spark.sql.warehouse.dir\", \"./\")\n",
        "                      #.config(\"spark.some.config.option\", \"some-value\")\n",
        "                      .getOrCreate() \n",
        "                      )\n",
        "\n",
        "sc = spark.sparkContext #spark context"
      ],
      "metadata": {
        "id": "C6RAgRZ79ngF"
      },
      "execution_count": 5,
      "outputs": []
    },
    {
      "cell_type": "code",
      "source": [
        "health= ( spark.read\n",
        "                              .load(\"/content/healthcare-dataset-stroke-data.csv\",\n",
        "                                    format = 'csv',\n",
        "                                    sep=\",\", \n",
        "                                    #schema = schema, #you can specify schema explicitly\n",
        "                                    inferSchema=\"true\", #you can try to infer schema\n",
        "                                    header=\"true\")\n",
        ")\n",
        "\n",
        "#check the first rows\n",
        "health.show()#health dataset"
      ],
      "metadata": {
        "colab": {
          "base_uri": "https://localhost:8080/"
        },
        "id": "ABR5BjeW9nkH",
        "outputId": "34fabf50-00b8-49a0-c0f0-14fab68276cc"
      },
      "execution_count": 7,
      "outputs": [
        {
          "output_type": "stream",
          "name": "stdout",
          "text": [
            "+-----+------+----+------------+-------------+------------+-------------+--------------+-----------------+----+---------------+------+\n",
            "|   id|gender| age|hypertension|heart_disease|ever_married|    work_type|Residence_type|avg_glucose_level| bmi| smoking_status|stroke|\n",
            "+-----+------+----+------------+-------------+------------+-------------+--------------+-----------------+----+---------------+------+\n",
            "| 9046|  Male|67.0|           0|            1|         Yes|      Private|         Urban|           228.69|36.6|formerly smoked|     1|\n",
            "|51676|Female|61.0|           0|            0|         Yes|Self-employed|         Rural|           202.21|null|   never smoked|     1|\n",
            "|31112|  Male|80.0|           0|            1|         Yes|      Private|         Rural|           105.92|32.5|   never smoked|     1|\n",
            "|60182|Female|49.0|           0|            0|         Yes|      Private|         Urban|           171.23|34.4|         smokes|     1|\n",
            "| 1665|Female|79.0|           1|            0|         Yes|Self-employed|         Rural|           174.12|24.0|   never smoked|     1|\n",
            "|56669|  Male|81.0|           0|            0|         Yes|      Private|         Urban|           186.21|29.0|formerly smoked|     1|\n",
            "|53882|  Male|74.0|           1|            1|         Yes|      Private|         Rural|            70.09|27.4|   never smoked|     1|\n",
            "|10434|Female|69.0|           0|            0|          No|      Private|         Urban|            94.39|22.8|   never smoked|     1|\n",
            "|27419|Female|59.0|           0|            0|         Yes|      Private|         Rural|            76.15|null|        Unknown|     1|\n",
            "|60491|Female|78.0|           0|            0|         Yes|      Private|         Urban|            58.57|24.2|        Unknown|     1|\n",
            "|12109|Female|81.0|           1|            0|         Yes|      Private|         Rural|            80.43|29.7|   never smoked|     1|\n",
            "|12095|Female|61.0|           0|            1|         Yes|     Govt_job|         Rural|           120.46|36.8|         smokes|     1|\n",
            "|12175|Female|54.0|           0|            0|         Yes|      Private|         Urban|           104.51|27.3|         smokes|     1|\n",
            "| 8213|  Male|78.0|           0|            1|         Yes|      Private|         Urban|           219.84|null|        Unknown|     1|\n",
            "| 5317|Female|79.0|           0|            1|         Yes|      Private|         Urban|           214.09|28.2|   never smoked|     1|\n",
            "|58202|Female|50.0|           1|            0|         Yes|Self-employed|         Rural|           167.41|30.9|   never smoked|     1|\n",
            "|56112|  Male|64.0|           0|            1|         Yes|      Private|         Urban|           191.61|37.5|         smokes|     1|\n",
            "|34120|  Male|75.0|           1|            0|         Yes|      Private|         Urban|           221.29|25.8|         smokes|     1|\n",
            "|27458|Female|60.0|           0|            0|          No|      Private|         Urban|            89.22|37.8|   never smoked|     1|\n",
            "|25226|  Male|57.0|           0|            1|          No|     Govt_job|         Urban|           217.08|null|        Unknown|     1|\n",
            "+-----+------+----+------------+-------------+------------+-------------+--------------+-----------------+----+---------------+------+\n",
            "only showing top 20 rows\n",
            "\n"
          ]
        }
      ]
    },
    {
      "cell_type": "code",
      "source": [
        "health.groupby('work_type','stroke').count().show()#count the no of strokes in a department"
      ],
      "metadata": {
        "colab": {
          "base_uri": "https://localhost:8080/"
        },
        "id": "KDzcD13Q-GEM",
        "outputId": "19b2c708-9a9f-4184-f718-9f85a00beb9f"
      },
      "execution_count": 8,
      "outputs": [
        {
          "output_type": "stream",
          "name": "stdout",
          "text": [
            "+-------------+------+-----+\n",
            "|    work_type|stroke|count|\n",
            "+-------------+------+-----+\n",
            "| Never_worked|     0|   22|\n",
            "|      Private|     0| 2776|\n",
            "|Self-employed|     0|  754|\n",
            "|     Govt_job|     1|   33|\n",
            "|      Private|     1|  149|\n",
            "|     children|     1|    2|\n",
            "|     Govt_job|     0|  624|\n",
            "|Self-employed|     1|   65|\n",
            "|     children|     0|  685|\n",
            "+-------------+------+-----+\n",
            "\n"
          ]
        }
      ]
    },
    {
      "cell_type": "markdown",
      "source": [
        "insight: private worktype has more no of strokes."
      ],
      "metadata": {
        "id": "ly1IXkZQDC9W"
      }
    },
    {
      "cell_type": "code",
      "source": [
        "health.groupby('gender','stroke').count().show()#count of no of female/male having stroke"
      ],
      "metadata": {
        "colab": {
          "base_uri": "https://localhost:8080/"
        },
        "id": "hEtNSYBL9nmk",
        "outputId": "8b55ab3e-c823-41b3-8bce-524c27d7b3fc"
      },
      "execution_count": 9,
      "outputs": [
        {
          "output_type": "stream",
          "name": "stdout",
          "text": [
            "+------+------+-----+\n",
            "|gender|stroke|count|\n",
            "+------+------+-----+\n",
            "|  Male|     1|  108|\n",
            "| Other|     0|    1|\n",
            "|Female|     0| 2853|\n",
            "|  Male|     0| 2007|\n",
            "|Female|     1|  141|\n",
            "+------+------+-----+\n",
            "\n"
          ]
        }
      ]
    },
    {
      "cell_type": "markdown",
      "source": [
        "insight:0, there are no strokes in female/male gender"
      ],
      "metadata": {
        "id": "QtDipgAoKIMM"
      }
    },
    {
      "cell_type": "code",
      "source": [
        "# Find Count of Null, None, NaN of All DataFrame Columns\n",
        "from pyspark.sql.functions import col,isnan, when, count\n",
        "health.select([count(when(isnan(c) | col(c).isNull(), c)).alias(c) for c in health.columns]\n",
        "   ).show()"
      ],
      "metadata": {
        "colab": {
          "base_uri": "https://localhost:8080/"
        },
        "id": "YENlLGIf9npr",
        "outputId": "00d289a3-4a96-462e-c4b5-8a38fd16f41d"
      },
      "execution_count": 10,
      "outputs": [
        {
          "output_type": "stream",
          "name": "stdout",
          "text": [
            "+---+------+---+------------+-------------+------------+---------+--------------+-----------------+---+--------------+------+\n",
            "| id|gender|age|hypertension|heart_disease|ever_married|work_type|Residence_type|avg_glucose_level|bmi|smoking_status|stroke|\n",
            "+---+------+---+------------+-------------+------------+---------+--------------+-----------------+---+--------------+------+\n",
            "|  0|     0|  0|           0|            0|           0|        0|             0|                0|201|             0|     0|\n",
            "+---+------+---+------------+-------------+------------+---------+--------------+-----------------+---+--------------+------+\n",
            "\n"
          ]
        }
      ]
    },
    {
      "cell_type": "code",
      "source": [
        "from pyspark.sql.functions import regexp_replace#replaacing null valves\n",
        "health1=health.withColumn('smoking_status', regexp_replace('smoking_status', 'Unknown', 'No info'))\n",
        "health1.show()   "
      ],
      "metadata": {
        "id": "FHJCwK2eLPzB"
      },
      "execution_count": null,
      "outputs": []
    },
    {
      "cell_type": "code",
      "source": [
        "from pyspark.sql.functions import mean\n",
        "mean = health1.select(mean(health['bmi'])).collect()\n",
        "mean_bmi = mean[0][0]\n",
        "health2= health1.na.fill(mean_bmi,['bmi'])"
      ],
      "metadata": {
        "id": "Gw9pmjqYLP1K"
      },
      "execution_count": null,
      "outputs": []
    },
    {
      "cell_type": "code",
      "source": [
        "import pyspark.sql.functions as f\n",
        "Health_new = health2.select('*').where((health2.age>60) &\n",
        "                         (health2.age<70))\n",
        "Health_new.show()"
      ],
      "metadata": {
        "id": "bERT3OVKE9v1"
      },
      "execution_count": null,
      "outputs": []
    },
    {
      "cell_type": "code",
      "source": [
        "Health_new.write.json('Users\\dilee')"
      ],
      "metadata": {
        "id": "I6mgVlnu_Uvb"
      },
      "execution_count": null,
      "outputs": []
    },
    {
      "cell_type": "code",
      "source": [
        "!pip install tensorflow-io\n",
        "!pip install kafka-python"
      ],
      "metadata": {
        "id": "vnB9PWc1Tk5u"
      },
      "execution_count": null,
      "outputs": []
    },
    {
      "cell_type": "code",
      "source": [
        "import os\n",
        "from datetime import datetime\n",
        "import time\n",
        "import threading\n",
        "import json\n",
        "from kafka import KafkaProducer\n",
        "from kafka.errors import KafkaError\n",
        "from sklearn.model_selection import train_test_split\n",
        "import pandas as pd\n",
        "import tensorflow as tf\n",
        "import tensorflow_io as tfio"
      ],
      "metadata": {
        "id": "717fmytKTk7q"
      },
      "execution_count": null,
      "outputs": []
    },
    {
      "cell_type": "code",
      "source": [
        "pip install kafka-python"
      ],
      "metadata": {
        "id": "6SgynmP8TlFe"
      },
      "execution_count": null,
      "outputs": []
    },
    {
      "cell_type": "code",
      "execution_count": null,
      "metadata": {
        "id": "JzoYtD7MDdgs"
      },
      "outputs": [],
      "source": [
        "!curl -sSOL https://downloads.apache.org/kafka/2.8.2/kafka_2.13-2.8.2.tgz\n",
        "!tar -xvf kafka_2.13-2.8.2.tgz"
      ]
    },
    {
      "cell_type": "code",
      "source": [
        "!./kafka_2.13-2.8.2/bin/zookeeper-server-start.sh -daemon ./kafka_2.13-2.8.2/config/zookeeper.properties\n"
      ],
      "metadata": {
        "id": "oD6aREriIy9l"
      },
      "execution_count": null,
      "outputs": []
    },
    {
      "cell_type": "code",
      "source": [
        "!./kafka_2.13-2.8.2/bin/kafka-server-start.sh -daemon ./kafka_2.13-2.8.2/config/server.properties\n"
      ],
      "metadata": {
        "id": "lH-zKgrjI5KV"
      },
      "execution_count": null,
      "outputs": []
    },
    {
      "cell_type": "code",
      "source": [
        "!ps -ef | grep kafka"
      ],
      "metadata": {
        "id": "JMGYyiorI7jI"
      },
      "execution_count": null,
      "outputs": []
    },
    {
      "cell_type": "code",
      "source": [
        "!./kafka_2.13-2.8.2/bin/kafka-topics.sh --create --bootstrap-server 127.0.0.1:9092 --topic dileep10 --replication-factor 1\n"
      ],
      "metadata": {
        "id": "IsT0fzE3I-Qk"
      },
      "execution_count": null,
      "outputs": []
    },
    {
      "cell_type": "code",
      "source": [
        "!./kafka_2.13-2.8.2/bin/zookeeper-server-start.sh -daemon ./kafka_2.13-2.8.2/config/zookeeper.properties"
      ],
      "metadata": {
        "id": "0g-AsLUeJL5q"
      },
      "execution_count": null,
      "outputs": []
    },
    {
      "cell_type": "code",
      "source": [
        "!./kafka_2.13-2.8.2/bin/kafka-console-producer.sh --bootstrap-server 127.0.0.1:9092 --topic dileep10 < health_sample.json"
      ],
      "metadata": {
        "id": "nin1Q4BWJQ9T"
      },
      "execution_count": null,
      "outputs": []
    },
    {
      "cell_type": "code",
      "source": [
        "!./kafka_2.13-2.8.2/bin/kafka-console-consumer.sh --topic dileep10--from-beginning --bootstrap-server 127.0.0.1:9092 "
      ],
      "metadata": {
        "id": "0PD9DJJ-KGGp"
      },
      "execution_count": null,
      "outputs": []
    },
    {
      "cell_type": "code",
      "source": [
        "from kafka import KafkaProducer\n",
        "import json \n",
        "producer = KafkaProducer(bootstrap_servers=['127.0.0.1:9092'],value_serializer=lambda v: json.dumps(v).encode('utf-8'))\n",
        "with open(\"/content/health_sample.json\", 'r') as file:\n",
        "    read = file.read()\n",
        "    for i in range(1):\n",
        "        producer.send(\"dileep1\", value=read)\n",
        "producer.close()"
      ],
      "metadata": {
        "id": "J5vspPkSQIqW"
      },
      "execution_count": null,
      "outputs": []
    },
    {
      "cell_type": "code",
      "source": [
        "from kafka import KafkaConsumer\n",
        "import sys\n",
        "bootstrap_servers = ['127.0.0.1:9092']\n",
        "topicName = 'dileep1'\n",
        "consumer = KafkaConsumer (topicName, group_id = 'group1',bootstrap_servers = bootstrap_servers,\n",
        "auto_offset_reset = 'earliest')"
      ],
      "metadata": {
        "id": "3zVFf4UPKX8v"
      },
      "execution_count": null,
      "outputs": []
    },
    {
      "cell_type": "code",
      "source": [
        "try:\n",
        "    for message in consumer:\n",
        "        print (\"%s:%d:%d: key=%s value=%s\" % (message.topic, message.partition,message.offset, message.key,message.value))\n",
        "except KeyboardInterrupt:\n",
        "    sys.exit()"
      ],
      "metadata": {
        "id": "2nt5XDQlKX6Y"
      },
      "execution_count": null,
      "outputs": []
    },
    {
      "cell_type": "code",
      "source": [
        "!./kafka_2.13-2.8.2/bin/kafka-console-consumer.sh --bootstrap-server 127.0.0.1:9092 --from-beginning --topic dileep1 > dileep.csv"
      ],
      "metadata": {
        "id": "9OJEayT4Q3ht"
      },
      "execution_count": null,
      "outputs": []
    },
    {
      "cell_type": "code",
      "source": [
        "!./kafka_2.13-2.8.2/bin/connect-standalone.sh ./kafka_2.13-2.8.2/config/connect-standalone.properties ./kafka_2.13-2.8.2/config/connect-console-sink.properties"
      ],
      "metadata": {
        "id": "zyV3lygdq8bN"
      },
      "execution_count": null,
      "outputs": []
    },
    {
      "cell_type": "code",
      "source": [
        "pip install mysql"
      ],
      "metadata": {
        "id": "vvNtADB357Ua"
      },
      "execution_count": null,
      "outputs": []
    },
    {
      "cell_type": "code",
      "source": [
        "pip install mysql.connector"
      ],
      "metadata": {
        "id": "wZ77NG9vt9hs"
      },
      "execution_count": null,
      "outputs": []
    },
    {
      "cell_type": "code",
      "source": [
        "pip install mysql"
      ],
      "metadata": {
        "id": "YrK7uBr_3a3c"
      },
      "execution_count": null,
      "outputs": []
    },
    {
      "cell_type": "code",
      "source": [
        "# install, set connection\n",
        "!apt-get install mysql-server > /dev/null\n",
        "!service mysql start\n",
        "!mysql -e \"ALTER USER 'root'@'localhost' IDENTIFIED WITH mysql_native_password BY 'root'\"\n",
        "!pip -q install PyMySQL\n",
        "%load_ext sql\n",
        "%config SqlMagic.feedback=False \n",
        "%config SqlMagic.autopandas=True\n",
        "%sql mysql+pymysql://root:root@/"
      ],
      "metadata": {
        "id": "0-vi_jau-hYE"
      },
      "execution_count": null,
      "outputs": []
    },
    {
      "cell_type": "code",
      "source": [
        "import mysql.connector as msql\n",
        "from mysql.connector import Error\n",
        "try:\n",
        "    conn = msql.connect(host='localhost', user='root',  \n",
        "                        password='root')#give ur username, password\n",
        "    if conn.is_connected():\n",
        "        cursor = conn.cursor()\n",
        "        cursor.execute(\"CREATE DATABASE dileep2\")\n",
        "        print(\"Database is created\")\n",
        "        \n",
        "except Error as e:\n",
        "    print(\"Error while connecting to MySQL\", e)"
      ],
      "metadata": {
        "id": "iV-w8Imc_Nfd"
      },
      "execution_count": null,
      "outputs": []
    },
    {
      "cell_type": "code",
      "source": [
        "from kafka import KafkaConsumer"
      ],
      "metadata": {
        "id": "jOyObXI-_kMn"
      },
      "execution_count": null,
      "outputs": []
    },
    {
      "cell_type": "code",
      "source": [
        "from mysql.connector import cursor\n",
        "import mysql\n",
        "Topic='dileep10'\n",
        "conn=mysql.connector.connect(user='root',password='root',host='localhost',port=\"3306\",database='dileep2')\n",
        "conn.commit()\n",
        "cursor=conn.cursor()\n",
        "sql=\"\"\"insert into details(id,gender,age,hypertension,heart_disease,ever_married,work_type,residence_type,avg_glucose_level,bmi,smoking_status,stroke) values(%s, %s, %s, %s, %s, %s, %s, %s, %s, %s, %s, %s)\"\"\"\n",
        "print('connecting to kafka')\n",
        "consumer=KafkaConsumer(Topic)\n",
        "print(\"connected to kafka\")\n",
        "print(f\"reading messsages from {Topic}\")\n",
        "for i,row in consumer:\n",
        "  message=msg.value.decode(\"utf-8\")\n",
        "  (id,gender,age,hypertension,heart_disease,ever_married,work_type,residence_type,avg_glucose_level,bmi,smoking_status,stroke)=message.split(',')\n",
        "  val=(id,gender,age,hypertension,heart_disease,ever_married,work_type,residence_type,avg_glucose_level,bmi,smoking_status,stroke)\n",
        "  cursor.excute(sql,val)\n",
        "  print(f\"{id},{gender},{age},{hypertension},{heart_disease},{ever_married},{work_type},{residence_type},{avg_glucose_level},{bmi},{smoking_status},{stroke}\")\n",
        "  print(f\"A{age} was inserted into database\")\n",
        "  conn.commit()\n",
        "conn.close()"
      ],
      "metadata": {
        "id": "pCin94oit9oz"
      },
      "execution_count": null,
      "outputs": []
    },
    {
      "cell_type": "code",
      "source": [
        "Health_new.show()"
      ],
      "metadata": {
        "id": "eGYTyw9soX_g"
      },
      "execution_count": null,
      "outputs": []
    },
    {
      "cell_type": "code",
      "source": [
        "pandasDF = Health_new.toPandas()\n",
        "print(pandasDF)\n",
        "d2=pandasDF[:5]\n",
        "d2"
      ],
      "metadata": {
        "id": "8HQZzqpbpnRm"
      },
      "execution_count": null,
      "outputs": []
    },
    {
      "cell_type": "code",
      "source": [
        "import mysql.connector as msql\n",
        "from mysql.connector import Error\n",
        "try:\n",
        "    conn = msql.connect(host='localhost', database='dileep2', user='root', password='root')\n",
        "    if conn.is_connected():\n",
        "        cursor = conn.cursor()\n",
        "        cursor.execute(\"select database();\")\n",
        "        record = cursor.fetchone()\n",
        "        print(\"You're connected to database: \", record)\n",
        "        cursor.execute('DROP TABLE IF EXISTS details;')\n",
        "        print('Creating table....')\n",
        "# in the below line please pass the create table statement which you want #to create\n",
        "        cursor.execute(\"CREATE TABLE details(id int(23), gender varchar(255),age int(255),hypertension int(25),heart_disease int(25),ever_married varchar(255),work_type varchar(255),Residence_type varchar(255),avg_glucose_level int(255),bmi int(255),smoking_status varchar(255),stroke int(23))\")\n",
        "        print(\"Table is created....\")\n",
        "        #loop through the data frame\n",
        "        for i,row in d2.iterrows():\n",
        "            #here %S means string values \n",
        "            sql = \"INSERT INTO dileep2.details VALUES (%s,%s,%s,%s,%s,%s,%s,%s,%s,%s,%s,%s)\"\n",
        "            cursor.execute(sql, tuple(row))\n",
        "            print(\"Record inserted\")\n",
        "            # the connection is not auto committed by default, so we must commit to save our changes\n",
        "            conn.commit()\n",
        "except Error as e:\n",
        "            print(\"Error while connecting to MySQL\", e)"
      ],
      "metadata": {
        "id": "aRLsj08Zt9ql"
      },
      "execution_count": null,
      "outputs": []
    }
  ]
}